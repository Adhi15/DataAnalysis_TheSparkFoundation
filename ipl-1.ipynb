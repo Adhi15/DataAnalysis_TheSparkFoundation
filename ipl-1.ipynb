{
 "cells": [
  {
   "cell_type": "code",
   "execution_count": 1,
   "id": "58f8f55b",
   "metadata": {
    "_cell_guid": "b1076dfc-b9ad-4769-8c92-a6c4dae69d19",
    "_uuid": "8f2839f25d086af736a60e9eeb907d3b93b6e0e5",
    "execution": {
     "iopub.execute_input": "2021-08-20T19:55:38.623054Z",
     "iopub.status.busy": "2021-08-20T19:55:38.621792Z",
     "iopub.status.idle": "2021-08-20T19:55:39.629008Z",
     "shell.execute_reply": "2021-08-20T19:55:39.628213Z",
     "shell.execute_reply.started": "2021-08-20T19:53:40.908558Z"
    },
    "papermill": {
     "duration": 1.029837,
     "end_time": "2021-08-20T19:55:39.629216",
     "exception": false,
     "start_time": "2021-08-20T19:55:38.599379",
     "status": "completed"
    },
    "tags": []
   },
   "outputs": [],
   "source": [
    "import numpy as np\n",
    "import pandas as pd\n",
    "import matplotlib.pyplot as plt\n",
    "%matplotlib inline\n",
    "import seaborn as sns"
   ]
  },
  {
   "cell_type": "code",
   "execution_count": 2,
   "id": "ac0aba49",
   "metadata": {
    "execution": {
     "iopub.execute_input": "2021-08-20T19:55:39.672964Z",
     "iopub.status.busy": "2021-08-20T19:55:39.672328Z",
     "iopub.status.idle": "2021-08-20T19:55:40.266685Z",
     "shell.execute_reply": "2021-08-20T19:55:40.266041Z",
     "shell.execute_reply.started": "2021-08-20T19:53:40.918174Z"
    },
    "papermill": {
     "duration": 0.61715,
     "end_time": "2021-08-20T19:55:40.266833",
     "exception": false,
     "start_time": "2021-08-20T19:55:39.649683",
     "status": "completed"
    },
    "tags": []
   },
   "outputs": [
    {
     "data": {
      "text/html": [
       "<div>\n",
       "<style scoped>\n",
       "    .dataframe tbody tr th:only-of-type {\n",
       "        vertical-align: middle;\n",
       "    }\n",
       "\n",
       "    .dataframe tbody tr th {\n",
       "        vertical-align: top;\n",
       "    }\n",
       "\n",
       "    .dataframe thead th {\n",
       "        text-align: right;\n",
       "    }\n",
       "</style>\n",
       "<table border=\"1\" class=\"dataframe\">\n",
       "  <thead>\n",
       "    <tr style=\"text-align: right;\">\n",
       "      <th></th>\n",
       "      <th>id</th>\n",
       "      <th>season</th>\n",
       "      <th>city</th>\n",
       "      <th>date</th>\n",
       "      <th>team1</th>\n",
       "      <th>team2</th>\n",
       "      <th>toss_winner</th>\n",
       "      <th>toss_decision</th>\n",
       "      <th>result</th>\n",
       "      <th>dl_applied</th>\n",
       "      <th>winner</th>\n",
       "      <th>win_by_runs</th>\n",
       "      <th>win_by_wickets</th>\n",
       "      <th>player_of_match</th>\n",
       "      <th>venue</th>\n",
       "      <th>umpire1</th>\n",
       "      <th>umpire2</th>\n",
       "      <th>umpire3</th>\n",
       "    </tr>\n",
       "  </thead>\n",
       "  <tbody>\n",
       "    <tr>\n",
       "      <th>0</th>\n",
       "      <td>1</td>\n",
       "      <td>2017</td>\n",
       "      <td>Hyderabad</td>\n",
       "      <td>2017-04-05</td>\n",
       "      <td>Sunrisers Hyderabad</td>\n",
       "      <td>Royal Challengers Bangalore</td>\n",
       "      <td>Royal Challengers Bangalore</td>\n",
       "      <td>field</td>\n",
       "      <td>normal</td>\n",
       "      <td>0</td>\n",
       "      <td>Sunrisers Hyderabad</td>\n",
       "      <td>35</td>\n",
       "      <td>0</td>\n",
       "      <td>Yuvraj Singh</td>\n",
       "      <td>Rajiv Gandhi International Stadium, Uppal</td>\n",
       "      <td>AY Dandekar</td>\n",
       "      <td>NJ Llong</td>\n",
       "      <td>NaN</td>\n",
       "    </tr>\n",
       "    <tr>\n",
       "      <th>1</th>\n",
       "      <td>2</td>\n",
       "      <td>2017</td>\n",
       "      <td>Pune</td>\n",
       "      <td>2017-04-06</td>\n",
       "      <td>Mumbai Indians</td>\n",
       "      <td>Rising Pune Supergiant</td>\n",
       "      <td>Rising Pune Supergiant</td>\n",
       "      <td>field</td>\n",
       "      <td>normal</td>\n",
       "      <td>0</td>\n",
       "      <td>Rising Pune Supergiant</td>\n",
       "      <td>0</td>\n",
       "      <td>7</td>\n",
       "      <td>SPD Smith</td>\n",
       "      <td>Maharashtra Cricket Association Stadium</td>\n",
       "      <td>A Nand Kishore</td>\n",
       "      <td>S Ravi</td>\n",
       "      <td>NaN</td>\n",
       "    </tr>\n",
       "    <tr>\n",
       "      <th>2</th>\n",
       "      <td>3</td>\n",
       "      <td>2017</td>\n",
       "      <td>Rajkot</td>\n",
       "      <td>2017-04-07</td>\n",
       "      <td>Gujarat Lions</td>\n",
       "      <td>Kolkata Knight Riders</td>\n",
       "      <td>Kolkata Knight Riders</td>\n",
       "      <td>field</td>\n",
       "      <td>normal</td>\n",
       "      <td>0</td>\n",
       "      <td>Kolkata Knight Riders</td>\n",
       "      <td>0</td>\n",
       "      <td>10</td>\n",
       "      <td>CA Lynn</td>\n",
       "      <td>Saurashtra Cricket Association Stadium</td>\n",
       "      <td>Nitin Menon</td>\n",
       "      <td>CK Nandan</td>\n",
       "      <td>NaN</td>\n",
       "    </tr>\n",
       "    <tr>\n",
       "      <th>3</th>\n",
       "      <td>4</td>\n",
       "      <td>2017</td>\n",
       "      <td>Indore</td>\n",
       "      <td>2017-04-08</td>\n",
       "      <td>Rising Pune Supergiant</td>\n",
       "      <td>Kings XI Punjab</td>\n",
       "      <td>Kings XI Punjab</td>\n",
       "      <td>field</td>\n",
       "      <td>normal</td>\n",
       "      <td>0</td>\n",
       "      <td>Kings XI Punjab</td>\n",
       "      <td>0</td>\n",
       "      <td>6</td>\n",
       "      <td>GJ Maxwell</td>\n",
       "      <td>Holkar Cricket Stadium</td>\n",
       "      <td>AK Chaudhary</td>\n",
       "      <td>C Shamshuddin</td>\n",
       "      <td>NaN</td>\n",
       "    </tr>\n",
       "    <tr>\n",
       "      <th>4</th>\n",
       "      <td>5</td>\n",
       "      <td>2017</td>\n",
       "      <td>Bangalore</td>\n",
       "      <td>2017-04-08</td>\n",
       "      <td>Royal Challengers Bangalore</td>\n",
       "      <td>Delhi Daredevils</td>\n",
       "      <td>Royal Challengers Bangalore</td>\n",
       "      <td>bat</td>\n",
       "      <td>normal</td>\n",
       "      <td>0</td>\n",
       "      <td>Royal Challengers Bangalore</td>\n",
       "      <td>15</td>\n",
       "      <td>0</td>\n",
       "      <td>KM Jadhav</td>\n",
       "      <td>M Chinnaswamy Stadium</td>\n",
       "      <td>NaN</td>\n",
       "      <td>NaN</td>\n",
       "      <td>NaN</td>\n",
       "    </tr>\n",
       "  </tbody>\n",
       "</table>\n",
       "</div>"
      ],
      "text/plain": [
       "   id  season       city        date                        team1  \\\n",
       "0   1    2017  Hyderabad  2017-04-05          Sunrisers Hyderabad   \n",
       "1   2    2017       Pune  2017-04-06               Mumbai Indians   \n",
       "2   3    2017     Rajkot  2017-04-07                Gujarat Lions   \n",
       "3   4    2017     Indore  2017-04-08       Rising Pune Supergiant   \n",
       "4   5    2017  Bangalore  2017-04-08  Royal Challengers Bangalore   \n",
       "\n",
       "                         team2                  toss_winner toss_decision  \\\n",
       "0  Royal Challengers Bangalore  Royal Challengers Bangalore         field   \n",
       "1       Rising Pune Supergiant       Rising Pune Supergiant         field   \n",
       "2        Kolkata Knight Riders        Kolkata Knight Riders         field   \n",
       "3              Kings XI Punjab              Kings XI Punjab         field   \n",
       "4             Delhi Daredevils  Royal Challengers Bangalore           bat   \n",
       "\n",
       "   result  dl_applied                       winner  win_by_runs  \\\n",
       "0  normal           0          Sunrisers Hyderabad           35   \n",
       "1  normal           0       Rising Pune Supergiant            0   \n",
       "2  normal           0        Kolkata Knight Riders            0   \n",
       "3  normal           0              Kings XI Punjab            0   \n",
       "4  normal           0  Royal Challengers Bangalore           15   \n",
       "\n",
       "   win_by_wickets player_of_match                                      venue  \\\n",
       "0               0    Yuvraj Singh  Rajiv Gandhi International Stadium, Uppal   \n",
       "1               7       SPD Smith    Maharashtra Cricket Association Stadium   \n",
       "2              10         CA Lynn     Saurashtra Cricket Association Stadium   \n",
       "3               6      GJ Maxwell                     Holkar Cricket Stadium   \n",
       "4               0       KM Jadhav                      M Chinnaswamy Stadium   \n",
       "\n",
       "          umpire1        umpire2 umpire3  \n",
       "0     AY Dandekar       NJ Llong     NaN  \n",
       "1  A Nand Kishore         S Ravi     NaN  \n",
       "2     Nitin Menon      CK Nandan     NaN  \n",
       "3    AK Chaudhary  C Shamshuddin     NaN  \n",
       "4             NaN            NaN     NaN  "
      ]
     },
     "execution_count": 2,
     "metadata": {},
     "output_type": "execute_result"
    }
   ],
   "source": [
    "matches = pd.read_csv(\"../input/ipl-dataset/matches.csv\")\n",
    "dels = pd.read_csv(\"../input/ipl-dataset/deliveries.csv\")\n",
    "matches.head()"
   ]
  },
  {
   "cell_type": "code",
   "execution_count": 3,
   "id": "cf1b0a8b",
   "metadata": {
    "execution": {
     "iopub.execute_input": "2021-08-20T19:55:40.331192Z",
     "iopub.status.busy": "2021-08-20T19:55:40.330500Z",
     "iopub.status.idle": "2021-08-20T19:55:40.334312Z",
     "shell.execute_reply": "2021-08-20T19:55:40.334751Z",
     "shell.execute_reply.started": "2021-08-20T19:53:41.308332Z"
    },
    "papermill": {
     "duration": 0.048905,
     "end_time": "2021-08-20T19:55:40.334924",
     "exception": false,
     "start_time": "2021-08-20T19:55:40.286019",
     "status": "completed"
    },
    "tags": []
   },
   "outputs": [
    {
     "data": {
      "text/html": [
       "<div>\n",
       "<style scoped>\n",
       "    .dataframe tbody tr th:only-of-type {\n",
       "        vertical-align: middle;\n",
       "    }\n",
       "\n",
       "    .dataframe tbody tr th {\n",
       "        vertical-align: top;\n",
       "    }\n",
       "\n",
       "    .dataframe thead th {\n",
       "        text-align: right;\n",
       "    }\n",
       "</style>\n",
       "<table border=\"1\" class=\"dataframe\">\n",
       "  <thead>\n",
       "    <tr style=\"text-align: right;\">\n",
       "      <th></th>\n",
       "      <th>match_id</th>\n",
       "      <th>inning</th>\n",
       "      <th>batting_team</th>\n",
       "      <th>bowling_team</th>\n",
       "      <th>over</th>\n",
       "      <th>ball</th>\n",
       "      <th>batsman</th>\n",
       "      <th>non_striker</th>\n",
       "      <th>bowler</th>\n",
       "      <th>is_super_over</th>\n",
       "      <th>...</th>\n",
       "      <th>bye_runs</th>\n",
       "      <th>legbye_runs</th>\n",
       "      <th>noball_runs</th>\n",
       "      <th>penalty_runs</th>\n",
       "      <th>batsman_runs</th>\n",
       "      <th>extra_runs</th>\n",
       "      <th>total_runs</th>\n",
       "      <th>player_dismissed</th>\n",
       "      <th>dismissal_kind</th>\n",
       "      <th>fielder</th>\n",
       "    </tr>\n",
       "  </thead>\n",
       "  <tbody>\n",
       "    <tr>\n",
       "      <th>0</th>\n",
       "      <td>1</td>\n",
       "      <td>1</td>\n",
       "      <td>Sunrisers Hyderabad</td>\n",
       "      <td>Royal Challengers Bangalore</td>\n",
       "      <td>1</td>\n",
       "      <td>1</td>\n",
       "      <td>DA Warner</td>\n",
       "      <td>S Dhawan</td>\n",
       "      <td>TS Mills</td>\n",
       "      <td>0</td>\n",
       "      <td>...</td>\n",
       "      <td>0</td>\n",
       "      <td>0</td>\n",
       "      <td>0</td>\n",
       "      <td>0</td>\n",
       "      <td>0</td>\n",
       "      <td>0</td>\n",
       "      <td>0</td>\n",
       "      <td>NaN</td>\n",
       "      <td>NaN</td>\n",
       "      <td>NaN</td>\n",
       "    </tr>\n",
       "    <tr>\n",
       "      <th>1</th>\n",
       "      <td>1</td>\n",
       "      <td>1</td>\n",
       "      <td>Sunrisers Hyderabad</td>\n",
       "      <td>Royal Challengers Bangalore</td>\n",
       "      <td>1</td>\n",
       "      <td>2</td>\n",
       "      <td>DA Warner</td>\n",
       "      <td>S Dhawan</td>\n",
       "      <td>TS Mills</td>\n",
       "      <td>0</td>\n",
       "      <td>...</td>\n",
       "      <td>0</td>\n",
       "      <td>0</td>\n",
       "      <td>0</td>\n",
       "      <td>0</td>\n",
       "      <td>0</td>\n",
       "      <td>0</td>\n",
       "      <td>0</td>\n",
       "      <td>NaN</td>\n",
       "      <td>NaN</td>\n",
       "      <td>NaN</td>\n",
       "    </tr>\n",
       "    <tr>\n",
       "      <th>2</th>\n",
       "      <td>1</td>\n",
       "      <td>1</td>\n",
       "      <td>Sunrisers Hyderabad</td>\n",
       "      <td>Royal Challengers Bangalore</td>\n",
       "      <td>1</td>\n",
       "      <td>3</td>\n",
       "      <td>DA Warner</td>\n",
       "      <td>S Dhawan</td>\n",
       "      <td>TS Mills</td>\n",
       "      <td>0</td>\n",
       "      <td>...</td>\n",
       "      <td>0</td>\n",
       "      <td>0</td>\n",
       "      <td>0</td>\n",
       "      <td>0</td>\n",
       "      <td>4</td>\n",
       "      <td>0</td>\n",
       "      <td>4</td>\n",
       "      <td>NaN</td>\n",
       "      <td>NaN</td>\n",
       "      <td>NaN</td>\n",
       "    </tr>\n",
       "    <tr>\n",
       "      <th>3</th>\n",
       "      <td>1</td>\n",
       "      <td>1</td>\n",
       "      <td>Sunrisers Hyderabad</td>\n",
       "      <td>Royal Challengers Bangalore</td>\n",
       "      <td>1</td>\n",
       "      <td>4</td>\n",
       "      <td>DA Warner</td>\n",
       "      <td>S Dhawan</td>\n",
       "      <td>TS Mills</td>\n",
       "      <td>0</td>\n",
       "      <td>...</td>\n",
       "      <td>0</td>\n",
       "      <td>0</td>\n",
       "      <td>0</td>\n",
       "      <td>0</td>\n",
       "      <td>0</td>\n",
       "      <td>0</td>\n",
       "      <td>0</td>\n",
       "      <td>NaN</td>\n",
       "      <td>NaN</td>\n",
       "      <td>NaN</td>\n",
       "    </tr>\n",
       "    <tr>\n",
       "      <th>4</th>\n",
       "      <td>1</td>\n",
       "      <td>1</td>\n",
       "      <td>Sunrisers Hyderabad</td>\n",
       "      <td>Royal Challengers Bangalore</td>\n",
       "      <td>1</td>\n",
       "      <td>5</td>\n",
       "      <td>DA Warner</td>\n",
       "      <td>S Dhawan</td>\n",
       "      <td>TS Mills</td>\n",
       "      <td>0</td>\n",
       "      <td>...</td>\n",
       "      <td>0</td>\n",
       "      <td>0</td>\n",
       "      <td>0</td>\n",
       "      <td>0</td>\n",
       "      <td>0</td>\n",
       "      <td>2</td>\n",
       "      <td>2</td>\n",
       "      <td>NaN</td>\n",
       "      <td>NaN</td>\n",
       "      <td>NaN</td>\n",
       "    </tr>\n",
       "  </tbody>\n",
       "</table>\n",
       "<p>5 rows × 21 columns</p>\n",
       "</div>"
      ],
      "text/plain": [
       "   match_id  inning         batting_team                 bowling_team  over  \\\n",
       "0         1       1  Sunrisers Hyderabad  Royal Challengers Bangalore     1   \n",
       "1         1       1  Sunrisers Hyderabad  Royal Challengers Bangalore     1   \n",
       "2         1       1  Sunrisers Hyderabad  Royal Challengers Bangalore     1   \n",
       "3         1       1  Sunrisers Hyderabad  Royal Challengers Bangalore     1   \n",
       "4         1       1  Sunrisers Hyderabad  Royal Challengers Bangalore     1   \n",
       "\n",
       "   ball    batsman non_striker    bowler  is_super_over  ...  bye_runs  \\\n",
       "0     1  DA Warner    S Dhawan  TS Mills              0  ...         0   \n",
       "1     2  DA Warner    S Dhawan  TS Mills              0  ...         0   \n",
       "2     3  DA Warner    S Dhawan  TS Mills              0  ...         0   \n",
       "3     4  DA Warner    S Dhawan  TS Mills              0  ...         0   \n",
       "4     5  DA Warner    S Dhawan  TS Mills              0  ...         0   \n",
       "\n",
       "   legbye_runs  noball_runs  penalty_runs  batsman_runs  extra_runs  \\\n",
       "0            0            0             0             0           0   \n",
       "1            0            0             0             0           0   \n",
       "2            0            0             0             4           0   \n",
       "3            0            0             0             0           0   \n",
       "4            0            0             0             0           2   \n",
       "\n",
       "   total_runs  player_dismissed dismissal_kind fielder  \n",
       "0           0               NaN            NaN     NaN  \n",
       "1           0               NaN            NaN     NaN  \n",
       "2           4               NaN            NaN     NaN  \n",
       "3           0               NaN            NaN     NaN  \n",
       "4           2               NaN            NaN     NaN  \n",
       "\n",
       "[5 rows x 21 columns]"
      ]
     },
     "execution_count": 3,
     "metadata": {},
     "output_type": "execute_result"
    }
   ],
   "source": [
    "dels.head()"
   ]
  },
  {
   "cell_type": "code",
   "execution_count": 4,
   "id": "8fbb5caf",
   "metadata": {
    "execution": {
     "iopub.execute_input": "2021-08-20T19:55:40.383492Z",
     "iopub.status.busy": "2021-08-20T19:55:40.382615Z",
     "iopub.status.idle": "2021-08-20T19:55:40.387291Z",
     "shell.execute_reply": "2021-08-20T19:55:40.386725Z",
     "shell.execute_reply.started": "2021-08-20T19:53:41.332252Z"
    },
    "papermill": {
     "duration": 0.032891,
     "end_time": "2021-08-20T19:55:40.387430",
     "exception": false,
     "start_time": "2021-08-20T19:55:40.354539",
     "status": "completed"
    },
    "tags": []
   },
   "outputs": [
    {
     "data": {
      "text/plain": [
       "id                   0\n",
       "season               0\n",
       "city                 7\n",
       "date                 0\n",
       "team1                0\n",
       "team2                0\n",
       "toss_winner          0\n",
       "toss_decision        0\n",
       "result               0\n",
       "dl_applied           0\n",
       "winner               4\n",
       "win_by_runs          0\n",
       "win_by_wickets       0\n",
       "player_of_match      4\n",
       "venue                0\n",
       "umpire1              2\n",
       "umpire2              2\n",
       "umpire3            637\n",
       "dtype: int64"
      ]
     },
     "execution_count": 4,
     "metadata": {},
     "output_type": "execute_result"
    }
   ],
   "source": [
    "matches.isnull().sum()"
   ]
  },
  {
   "cell_type": "code",
   "execution_count": 5,
   "id": "eb536ee5",
   "metadata": {
    "execution": {
     "iopub.execute_input": "2021-08-20T19:55:40.431656Z",
     "iopub.status.busy": "2021-08-20T19:55:40.430985Z",
     "iopub.status.idle": "2021-08-20T19:55:40.556055Z",
     "shell.execute_reply": "2021-08-20T19:55:40.555368Z",
     "shell.execute_reply.started": "2021-08-20T19:53:41.349655Z"
    },
    "papermill": {
     "duration": 0.148805,
     "end_time": "2021-08-20T19:55:40.556226",
     "exception": false,
     "start_time": "2021-08-20T19:55:40.407421",
     "status": "completed"
    },
    "tags": []
   },
   "outputs": [
    {
     "data": {
      "text/plain": [
       "match_id                 0\n",
       "inning                   0\n",
       "batting_team             0\n",
       "bowling_team             0\n",
       "over                     0\n",
       "ball                     0\n",
       "batsman                  0\n",
       "non_striker              0\n",
       "bowler                   0\n",
       "is_super_over            0\n",
       "wide_runs                0\n",
       "bye_runs                 0\n",
       "legbye_runs              0\n",
       "noball_runs              0\n",
       "penalty_runs             0\n",
       "batsman_runs             0\n",
       "extra_runs               0\n",
       "total_runs               0\n",
       "player_dismissed    170244\n",
       "dismissal_kind      170244\n",
       "fielder             172630\n",
       "dtype: int64"
      ]
     },
     "execution_count": 5,
     "metadata": {},
     "output_type": "execute_result"
    }
   ],
   "source": [
    "dels.isnull().sum()"
   ]
  },
  {
   "cell_type": "code",
   "execution_count": 6,
   "id": "d494c3ad",
   "metadata": {
    "execution": {
     "iopub.execute_input": "2021-08-20T19:55:40.606670Z",
     "iopub.status.busy": "2021-08-20T19:55:40.605976Z",
     "iopub.status.idle": "2021-08-20T19:55:40.610455Z",
     "shell.execute_reply": "2021-08-20T19:55:40.609879Z",
     "shell.execute_reply.started": "2021-08-20T19:53:41.415908Z"
    },
    "papermill": {
     "duration": 0.032705,
     "end_time": "2021-08-20T19:55:40.610602",
     "exception": false,
     "start_time": "2021-08-20T19:55:40.577897",
     "status": "completed"
    },
    "tags": []
   },
   "outputs": [
    {
     "data": {
      "text/plain": [
       "array(['Sunrisers Hyderabad', 'Mumbai Indians', 'Gujarat Lions',\n",
       "       'Rising Pune Supergiant', 'Royal Challengers Bangalore',\n",
       "       'Kolkata Knight Riders', 'Delhi Daredevils', 'Kings XI Punjab',\n",
       "       'Chennai Super Kings', 'Rajasthan Royals', 'Deccan Chargers',\n",
       "       'Kochi Tuskers Kerala', 'Pune Warriors', 'Rising Pune Supergiants',\n",
       "       'Delhi Capitals'], dtype=object)"
      ]
     },
     "execution_count": 6,
     "metadata": {},
     "output_type": "execute_result"
    }
   ],
   "source": [
    "matches[\"team1\"].unique()"
   ]
  },
  {
   "cell_type": "code",
   "execution_count": 7,
   "id": "a87754a8",
   "metadata": {
    "execution": {
     "iopub.execute_input": "2021-08-20T19:55:40.662575Z",
     "iopub.status.busy": "2021-08-20T19:55:40.661881Z",
     "iopub.status.idle": "2021-08-20T19:55:40.664627Z",
     "shell.execute_reply": "2021-08-20T19:55:40.665056Z",
     "shell.execute_reply.started": "2021-08-20T19:53:41.424918Z"
    },
    "papermill": {
     "duration": 0.033221,
     "end_time": "2021-08-20T19:55:40.665265",
     "exception": false,
     "start_time": "2021-08-20T19:55:40.632044",
     "status": "completed"
    },
    "tags": []
   },
   "outputs": [],
   "source": [
    "matches.replace('Rising Pune Supergiant','Rising Pune Supergiants', inplace=True)"
   ]
  },
  {
   "cell_type": "code",
   "execution_count": 8,
   "id": "34db9d36",
   "metadata": {
    "execution": {
     "iopub.execute_input": "2021-08-20T19:55:40.711851Z",
     "iopub.status.busy": "2021-08-20T19:55:40.711038Z",
     "iopub.status.idle": "2021-08-20T19:55:40.716180Z",
     "shell.execute_reply": "2021-08-20T19:55:40.715588Z",
     "shell.execute_reply.started": "2021-08-20T19:53:41.439564Z"
    },
    "papermill": {
     "duration": 0.030425,
     "end_time": "2021-08-20T19:55:40.716328",
     "exception": false,
     "start_time": "2021-08-20T19:55:40.685903",
     "status": "completed"
    },
    "tags": []
   },
   "outputs": [
    {
     "data": {
      "text/plain": [
       "array(['Sunrisers Hyderabad', 'Mumbai Indians', 'Gujarat Lions',\n",
       "       'Rising Pune Supergiants', 'Royal Challengers Bangalore',\n",
       "       'Kolkata Knight Riders', 'Delhi Daredevils', 'Kings XI Punjab',\n",
       "       'Chennai Super Kings', 'Rajasthan Royals', 'Deccan Chargers',\n",
       "       'Kochi Tuskers Kerala', 'Pune Warriors', 'Delhi Capitals'],\n",
       "      dtype=object)"
      ]
     },
     "execution_count": 8,
     "metadata": {},
     "output_type": "execute_result"
    }
   ],
   "source": [
    "matches[\"team1\"].unique()"
   ]
  },
  {
   "cell_type": "code",
   "execution_count": 9,
   "id": "4331b075",
   "metadata": {
    "execution": {
     "iopub.execute_input": "2021-08-20T19:55:40.774850Z",
     "iopub.status.busy": "2021-08-20T19:55:40.773902Z",
     "iopub.status.idle": "2021-08-20T19:55:40.786009Z",
     "shell.execute_reply": "2021-08-20T19:55:40.785464Z",
     "shell.execute_reply.started": "2021-08-20T19:53:41.451017Z"
    },
    "papermill": {
     "duration": 0.048819,
     "end_time": "2021-08-20T19:55:40.786167",
     "exception": false,
     "start_time": "2021-08-20T19:55:40.737348",
     "status": "completed"
    },
    "tags": []
   },
   "outputs": [
    {
     "data": {
      "text/plain": [
       "array(['Royal Challengers Bangalore', 'Sunrisers Hyderabad',\n",
       "       'Rising Pune Supergiant', 'Mumbai Indians',\n",
       "       'Kolkata Knight Riders', 'Gujarat Lions', 'Kings XI Punjab',\n",
       "       'Delhi Daredevils', 'Chennai Super Kings', 'Rajasthan Royals',\n",
       "       'Deccan Chargers', 'Kochi Tuskers Kerala', 'Pune Warriors',\n",
       "       'Rising Pune Supergiants', 'Delhi Capitals'], dtype=object)"
      ]
     },
     "execution_count": 9,
     "metadata": {},
     "output_type": "execute_result"
    }
   ],
   "source": [
    "dels[\"bowling_team\"].unique()"
   ]
  },
  {
   "cell_type": "code",
   "execution_count": 10,
   "id": "6bdf008d",
   "metadata": {
    "execution": {
     "iopub.execute_input": "2021-08-20T19:55:40.899038Z",
     "iopub.status.busy": "2021-08-20T19:55:40.898333Z",
     "iopub.status.idle": "2021-08-20T19:55:40.907413Z",
     "shell.execute_reply": "2021-08-20T19:55:40.906714Z",
     "shell.execute_reply.started": "2021-08-20T19:53:41.475107Z"
    },
    "papermill": {
     "duration": 0.099246,
     "end_time": "2021-08-20T19:55:40.907558",
     "exception": false,
     "start_time": "2021-08-20T19:55:40.808312",
     "status": "completed"
    },
    "tags": []
   },
   "outputs": [],
   "source": [
    "dels.replace('Rising Pune Supergiant','Rising Pune Supergiants', inplace=True)"
   ]
  },
  {
   "cell_type": "code",
   "execution_count": 11,
   "id": "05c27a6d",
   "metadata": {
    "execution": {
     "iopub.execute_input": "2021-08-20T19:55:40.965575Z",
     "iopub.status.busy": "2021-08-20T19:55:40.964866Z",
     "iopub.status.idle": "2021-08-20T19:55:40.975857Z",
     "shell.execute_reply": "2021-08-20T19:55:40.975233Z",
     "shell.execute_reply.started": "2021-08-20T19:53:41.513275Z"
    },
    "papermill": {
     "duration": 0.047208,
     "end_time": "2021-08-20T19:55:40.975993",
     "exception": false,
     "start_time": "2021-08-20T19:55:40.928785",
     "status": "completed"
    },
    "tags": []
   },
   "outputs": [
    {
     "data": {
      "text/plain": [
       "array(['Royal Challengers Bangalore', 'Sunrisers Hyderabad',\n",
       "       'Rising Pune Supergiants', 'Mumbai Indians',\n",
       "       'Kolkata Knight Riders', 'Gujarat Lions', 'Kings XI Punjab',\n",
       "       'Delhi Daredevils', 'Chennai Super Kings', 'Rajasthan Royals',\n",
       "       'Deccan Chargers', 'Kochi Tuskers Kerala', 'Pune Warriors',\n",
       "       'Delhi Capitals'], dtype=object)"
      ]
     },
     "execution_count": 11,
     "metadata": {},
     "output_type": "execute_result"
    }
   ],
   "source": [
    "dels[\"bowling_team\"].unique()"
   ]
  },
  {
   "cell_type": "code",
   "execution_count": 12,
   "id": "a095ac25",
   "metadata": {
    "execution": {
     "iopub.execute_input": "2021-08-20T19:55:41.025628Z",
     "iopub.status.busy": "2021-08-20T19:55:41.024673Z",
     "iopub.status.idle": "2021-08-20T19:55:41.029081Z",
     "shell.execute_reply": "2021-08-20T19:55:41.028597Z",
     "shell.execute_reply.started": "2021-08-20T19:53:41.535553Z"
    },
    "papermill": {
     "duration": 0.03159,
     "end_time": "2021-08-20T19:55:41.029246",
     "exception": false,
     "start_time": "2021-08-20T19:55:40.997656",
     "status": "completed"
    },
    "tags": []
   },
   "outputs": [
    {
     "data": {
      "text/plain": [
       "array(['Hyderabad', 'Pune', 'Rajkot', 'Indore', 'Bangalore', 'Mumbai',\n",
       "       'Kolkata', 'Delhi', 'Chandigarh', 'Kanpur', 'Jaipur', 'Chennai',\n",
       "       'Cape Town', 'Port Elizabeth', 'Durban', 'Centurion',\n",
       "       'East London', 'Johannesburg', 'Kimberley', 'Bloemfontein',\n",
       "       'Ahmedabad', 'Cuttack', 'Nagpur', 'Dharamsala', 'Kochi',\n",
       "       'Visakhapatnam', 'Raipur', 'Ranchi', 'Abu Dhabi', 'Sharjah', nan,\n",
       "       'Mohali', 'Bengaluru'], dtype=object)"
      ]
     },
     "execution_count": 12,
     "metadata": {},
     "output_type": "execute_result"
    }
   ],
   "source": [
    "matches[\"city\"].unique()"
   ]
  },
  {
   "cell_type": "code",
   "execution_count": 13,
   "id": "16b81db2",
   "metadata": {
    "execution": {
     "iopub.execute_input": "2021-08-20T19:55:41.078353Z",
     "iopub.status.busy": "2021-08-20T19:55:41.077667Z",
     "iopub.status.idle": "2021-08-20T19:55:41.084393Z",
     "shell.execute_reply": "2021-08-20T19:55:41.083867Z",
     "shell.execute_reply.started": "2021-08-20T19:53:41.544991Z"
    },
    "papermill": {
     "duration": 0.033217,
     "end_time": "2021-08-20T19:55:41.084537",
     "exception": false,
     "start_time": "2021-08-20T19:55:41.051320",
     "status": "completed"
    },
    "tags": []
   },
   "outputs": [],
   "source": [
    "matches.replace('Bangalore','Bengaluru', inplace=True)"
   ]
  },
  {
   "cell_type": "code",
   "execution_count": 14,
   "id": "fc406288",
   "metadata": {
    "execution": {
     "iopub.execute_input": "2021-08-20T19:55:41.135106Z",
     "iopub.status.busy": "2021-08-20T19:55:41.134205Z",
     "iopub.status.idle": "2021-08-20T19:55:41.137687Z",
     "shell.execute_reply": "2021-08-20T19:55:41.138191Z",
     "shell.execute_reply.started": "2021-08-20T19:53:41.555633Z"
    },
    "papermill": {
     "duration": 0.031822,
     "end_time": "2021-08-20T19:55:41.138358",
     "exception": false,
     "start_time": "2021-08-20T19:55:41.106536",
     "status": "completed"
    },
    "tags": []
   },
   "outputs": [
    {
     "data": {
      "text/plain": [
       "array(['Hyderabad', 'Pune', 'Rajkot', 'Indore', 'Bengaluru', 'Mumbai',\n",
       "       'Kolkata', 'Delhi', 'Chandigarh', 'Kanpur', 'Jaipur', 'Chennai',\n",
       "       'Cape Town', 'Port Elizabeth', 'Durban', 'Centurion',\n",
       "       'East London', 'Johannesburg', 'Kimberley', 'Bloemfontein',\n",
       "       'Ahmedabad', 'Cuttack', 'Nagpur', 'Dharamsala', 'Kochi',\n",
       "       'Visakhapatnam', 'Raipur', 'Ranchi', 'Abu Dhabi', 'Sharjah', nan,\n",
       "       'Mohali'], dtype=object)"
      ]
     },
     "execution_count": 14,
     "metadata": {},
     "output_type": "execute_result"
    }
   ],
   "source": [
    "matches[\"city\"].unique()"
   ]
  },
  {
   "cell_type": "code",
   "execution_count": 15,
   "id": "6d58c5b7",
   "metadata": {
    "execution": {
     "iopub.execute_input": "2021-08-20T19:55:41.186636Z",
     "iopub.status.busy": "2021-08-20T19:55:41.185683Z",
     "iopub.status.idle": "2021-08-20T19:55:41.390994Z",
     "shell.execute_reply": "2021-08-20T19:55:41.391468Z",
     "shell.execute_reply.started": "2021-08-20T19:53:41.670897Z"
    },
    "papermill": {
     "duration": 0.2308,
     "end_time": "2021-08-20T19:55:41.391643",
     "exception": false,
     "start_time": "2021-08-20T19:55:41.160843",
     "status": "completed"
    },
    "tags": []
   },
   "outputs": [
    {
     "data": {
      "image/png": "[encoded data removed]",
      "text/plain": [
       "<Figure size 792x432 with 1 Axes>"
      ]
     },
     "metadata": {
      "needs_background": "light"
     },
     "output_type": "display_data"
    }
   ],
   "source": [
    "plt.subplots(figsize=(11,6))\n",
    "wins = matches.drop_duplicates('season', keep='last')\n",
    "ax=sns.countplot(x='winner', data = wins, palette = 'Set2')\n",
    "plt.show()"
   ]
  },
  {
   "cell_type": "code",
   "execution_count": 16,
   "id": "3462497a",
   "metadata": {
    "execution": {
     "iopub.execute_input": "2021-08-20T19:55:41.481928Z",
     "iopub.status.busy": "2021-08-20T19:55:41.480844Z",
     "iopub.status.idle": "2021-08-20T19:55:41.680382Z",
     "shell.execute_reply": "2021-08-20T19:55:41.679446Z",
     "shell.execute_reply.started": "2021-08-20T19:53:41.823709Z"
    },
    "papermill": {
     "duration": 0.265767,
     "end_time": "2021-08-20T19:55:41.680530",
     "exception": false,
     "start_time": "2021-08-20T19:55:41.414763",
     "status": "completed"
    },
    "tags": []
   },
   "outputs": [
    {
     "data": {
      "image/png": "[encoded data removed]",
      "text/plain": [
       "<Figure size 1152x576 with 1 Axes>"
      ]
     },
     "metadata": {
      "needs_background": "light"
     },
     "output_type": "display_data"
    }
   ],
   "source": [
    "plt.subplots(figsize=(16,8))\n",
    "ax = sns.barplot(x = matches['player_of_match'].value_counts()[:10].index, y = matches['player_of_match'].value_counts()[:10])\n",
    "plt.ylabel('Number of MOM won',fontsize=15)\n",
    "plt.title('Top players',fontsize=20)\n",
    "plt.xlabel('Players',fontsize=12)\n",
    "plt.show()"
   ]
  },
  {
   "cell_type": "code",
   "execution_count": 17,
   "id": "490160ee",
   "metadata": {
    "execution": {
     "iopub.execute_input": "2021-08-20T19:55:41.736350Z",
     "iopub.status.busy": "2021-08-20T19:55:41.735383Z",
     "iopub.status.idle": "2021-08-20T19:55:41.847196Z",
     "shell.execute_reply": "2021-08-20T19:55:41.847689Z",
     "shell.execute_reply.started": "2021-08-20T19:53:42.025448Z"
    },
    "papermill": {
     "duration": 0.142616,
     "end_time": "2021-08-20T19:55:41.847882",
     "exception": false,
     "start_time": "2021-08-20T19:55:41.705266",
     "status": "completed"
    },
    "tags": []
   },
   "outputs": [
    {
     "data": {
      "image/png": "[encoded data removed]",
      "text/plain": [
       "<Figure size 432x288 with 1 Axes>"
      ]
     },
     "metadata": {},
     "output_type": "display_data"
    }
   ],
   "source": [
    "matches['win_by']=np.where(matches['win_by_runs']>0,'Bat first','Bowl first')\n",
    "match=matches.win_by.value_counts()\n",
    "labels=np.array(match.index)\n",
    "sizes = match.values\n",
    "#colors = ['red', 'blue']\n",
    "plt.pie(sizes, labels=labels, autopct='%1.1f%%' )\n",
    "plt.title('Match Result')\n",
    "plt.axis('equal')\n",
    "plt.show()"
   ]
  },
  {
   "cell_type": "code",
   "execution_count": 18,
   "id": "fe92cb48",
   "metadata": {
    "execution": {
     "iopub.execute_input": "2021-08-20T19:55:41.901828Z",
     "iopub.status.busy": "2021-08-20T19:55:41.900859Z",
     "iopub.status.idle": "2021-08-20T19:55:42.005338Z",
     "shell.execute_reply": "2021-08-20T19:55:42.005801Z",
     "shell.execute_reply.started": "2021-08-20T19:53:42.102589Z"
    },
    "papermill": {
     "duration": 0.132593,
     "end_time": "2021-08-20T19:55:42.005980",
     "exception": false,
     "start_time": "2021-08-20T19:55:41.873387",
     "status": "completed"
    },
    "tags": []
   },
   "outputs": [
    {
     "data": {
      "image/png": "[encoded data removed]",
      "text/plain": [
       "<Figure size 432x288 with 1 Axes>"
      ]
     },
     "metadata": {},
     "output_type": "display_data"
    }
   ],
   "source": [
    "toss = matches.toss_decision.value_counts()\n",
    "labels = np.array(toss.index)\n",
    "sizes = toss.values\n",
    "plt.pie(sizes, labels=labels,autopct='%1.1f%%', shadow=True,startangle=90)\n",
    "plt.title('Toss Result')\n",
    "plt.axis('equal')\n",
    "plt.show()"
   ]
  },
  {
   "cell_type": "code",
   "execution_count": 19,
   "id": "cf2d1256",
   "metadata": {
    "execution": {
     "iopub.execute_input": "2021-08-20T19:55:42.061067Z",
     "iopub.status.busy": "2021-08-20T19:55:42.060073Z",
     "iopub.status.idle": "2021-08-20T19:55:42.504576Z",
     "shell.execute_reply": "2021-08-20T19:55:42.505015Z",
     "shell.execute_reply.started": "2021-08-20T19:53:42.195359Z"
    },
    "papermill": {
     "duration": 0.47359,
     "end_time": "2021-08-20T19:55:42.505214",
     "exception": false,
     "start_time": "2021-08-20T19:55:42.031624",
     "status": "completed"
    },
    "tags": []
   },
   "outputs": [
    {
     "data": {
      "image/png": "[encoded data removed]",
      "text/plain": [
       "<Figure size 1080x576 with 1 Axes>"
      ]
     },
     "metadata": {
      "needs_background": "light"
     },
     "output_type": "display_data"
    }
   ],
   "source": [
    "batsman_df = dels.groupby('batsman')['batsman_runs'].agg(lambda x: (x==4).sum() and (x==6).sum()).reset_index().sort_values(by='batsman_runs', ascending=False).reset_index(drop=True)\n",
    "batsman_df = batsman_df.iloc[:10,:]\n",
    "\n",
    "labels = np.array(batsman_df['batsman'])\n",
    "ind = np.arange(len(labels))\n",
    "width = 0.9\n",
    "fig, ax = plt.subplots(figsize=(15,8))\n",
    "rects = ax.bar(ind, np.array(batsman_df['batsman_runs']), width=width)\n",
    "ax.set_xticks(ind+((width)/2.))\n",
    "ax.set_xticklabels(labels, rotation='vertical')\n",
    "ax.set_ylabel(\"Count\")\n",
    "ax.set_title(\"Top 10 Batsman with most number of boundries\")\n",
    "plt.show()"
   ]
  },
  {
   "cell_type": "code",
   "execution_count": 20,
   "id": "2ce912c4",
   "metadata": {
    "execution": {
     "iopub.execute_input": "2021-08-20T19:55:42.562858Z",
     "iopub.status.busy": "2021-08-20T19:55:42.561879Z",
     "iopub.status.idle": "2021-08-20T19:55:42.785379Z",
     "shell.execute_reply": "2021-08-20T19:55:42.785840Z",
     "shell.execute_reply.started": "2021-08-20T19:53:42.588680Z"
    },
    "papermill": {
     "duration": 0.25423,
     "end_time": "2021-08-20T19:55:42.786021",
     "exception": false,
     "start_time": "2021-08-20T19:55:42.531791",
     "status": "completed"
    },
    "tags": []
   },
   "outputs": [
    {
     "data": {
      "image/png": "[encoded data removed]",
      "text/plain": [
       "<Figure size 1080x576 with 1 Axes>"
      ]
     },
     "metadata": {
      "needs_background": "light"
     },
     "output_type": "display_data"
    }
   ],
   "source": [
    "batsman_df = dels.groupby('batsman')['batsman_runs'].agg('sum').reset_index().sort_values(by='batsman_runs', ascending=False).reset_index(drop=True)\n",
    "batsman_df = batsman_df.iloc[:10,:]\n",
    "\n",
    "labels = np.array(batsman_df['batsman'])\n",
    "ind = np.arange(len(labels))\n",
    "width = 0.9\n",
    "fig, ax = plt.subplots(figsize=(15,8))\n",
    "rects = ax.bar(ind, np.array(batsman_df['batsman_runs']), width=width, color = 'red')\n",
    "ax.set_xticks(ind+((width)/2.))\n",
    "ax.set_xticklabels(labels, rotation='vertical')\n",
    "ax.set_ylabel(\"Count\")\n",
    "ax.set_title(\"Batsman with highest runs in IPL\")\n",
    "ax.set_xlabel('Batsmane Name')\n",
    "plt.show()"
   ]
  },
  {
   "cell_type": "code",
   "execution_count": 21,
   "id": "3b9ab4a9",
   "metadata": {
    "execution": {
     "iopub.execute_input": "2021-08-20T19:55:42.845443Z",
     "iopub.status.busy": "2021-08-20T19:55:42.844476Z",
     "iopub.status.idle": "2021-08-20T19:55:43.495845Z",
     "shell.execute_reply": "2021-08-20T19:55:43.496308Z",
     "shell.execute_reply.started": "2021-08-20T19:55:09.029578Z"
    },
    "papermill": {
     "duration": 0.682238,
     "end_time": "2021-08-20T19:55:43.496490",
     "exception": false,
     "start_time": "2021-08-20T19:55:42.814252",
     "status": "completed"
    },
    "tags": []
   },
   "outputs": [
    {
     "data": {
      "image/png": "[encoded data removed]",
      "text/plain": [
       "<Figure size 1080x576 with 1 Axes>"
      ]
     },
     "metadata": {
      "needs_background": "light"
     },
     "output_type": "display_data"
    }
   ],
   "source": [
    "bowling_wickets= dels[dels['dismissal_kind']!='run out']\n",
    "bowling_tot=bowling_wickets.groupby('bowler').apply(lambda x:x['dismissal_kind'].dropna()).reset_index(name='Wickets')\n",
    "bowling_wick_count=bowling_tot.groupby('bowler').count().reset_index()\n",
    "bowling_top=bowling_wick_count.sort_values(by='Wickets',ascending=False)\n",
    "top_bowlers=bowling_top.loc[:,['bowler','Wickets']][0:10]\n",
    "fig, ax = plt.subplots(figsize=(15,8))\n",
    "ax.bar(top_bowlers['bowler'],top_bowlers['Wickets'], width = 0.9)\n",
    "ax.set_xlabel('Bowlers',size=15)\n",
    "ax.set_ylabel('Wickets',size=15)\n",
    "ax.set_title('Top 10 Bowlers with highest wickets in IPL',size=20)\n",
    "plt.show()"
   ]
  },
  {
   "cell_type": "code",
   "execution_count": null,
   "id": "3c9b7b1b",
   "metadata": {
    "papermill": {
     "duration": 0.028368,
     "end_time": "2021-08-20T19:55:43.553387",
     "exception": false,
     "start_time": "2021-08-20T19:55:43.525019",
     "status": "completed"
    },
    "tags": []
   },
   "outputs": [],
   "source": []
  }
 ],
 "metadata": {
  "kernelspec": {
   "display_name": "Python 3",
   "language": "python",
   "name": "python3"
  },
  "language_info": {
   "codemirror_mode": {
    "name": "ipython",
    "version": 3
   },
   "file_extension": ".py",
   "mimetype": "text/x-python",
   "name": "python",
   "nbconvert_exporter": "python",
   "pygments_lexer": "ipython3",
   "version": "3.7.10"
  },
  "papermill": {
   "default_parameters": {},
   "duration": 14.853059,
   "end_time": "2021-08-20T19:55:45.234263",
   "environment_variables": {},
   "exception": null,
   "input_path": "__notebook__.ipynb",
   "output_path": "__notebook__.ipynb",
   "parameters": {},
   "start_time": "2021-08-20T19:55:30.381204",
   "version": "2.3.3"
  }
 },
 "nbformat": 4,
 "nbformat_minor": 5
}
